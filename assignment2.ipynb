{
  "cells": [
    {
      "cell_type": "markdown",
      "id": "13ad028b-72b7-43ed-aa78-96fd4e518040",
      "metadata": {
        "id": "13ad028b-72b7-43ed-aa78-96fd4e518040"
      },
      "source": [
        "# Assignment: Data Wrangling and Exploratory Data Analysis\n",
        "## Do Q1 and Q2, and one other question.\n",
        "`! git clone https://www.github.com/DS3001/assignment2`"
      ]
    },
    {
      "attachments": {},
      "cell_type": "markdown",
      "id": "5735a4d4-8be8-433a-a351-70eb8002e632",
      "metadata": {
        "id": "5735a4d4-8be8-433a-a351-70eb8002e632"
      },
      "source": [
        "**Q1.** Open the \"tidy_data.pdf\" document in the repo, which is a paper called Tidy Data by Hadley Wickham.\n",
        "\n",
        "  1. Read the abstract. What is this paper about?\n",
        "      * The paper explores the concept of data tidying, which is when data is restructured to make analysis easier. \n",
        "  2. Read the introduction. What is the \"tidy data standard\" intended to accomplish?\n",
        "      * The tidy data standard has two goals: simplify data cleaning and to facilitate data analysis and tool development. Having a standard makes it easier to clean data because people don't have to \"reinvent the wheel\" each time and can save brainpower.\n",
        "  3. Read the intro to section 2. What does this sentence mean: \"Like families, tidy datasets are all alike but every messy dataset is messy in its own way.\" What does this sentence mean: \"For a given dataset, it’s usually easy to figure out what are observations and what are variables, but it is surprisingly difficult to precisely define variables and observations in general.\"\n",
        "      * The first sentence about families is referring to the Leo Tolstoy quote, and means that tidy datasets adhere to a standardized structure and format, which makes them similar and consistent in their organization. In contrast, messy datasets vary widely in terms of how they are structured and formatted. There are many ways to be a messy dataset (or an unhappy family) but not many ways to be tidy (or happy).\n",
        "      * The second sentence means that when you look at a specific dataset, it's often straightforward to identify what makes up individual data points (observations) and what represents the characteristics being measured (variables). However, when attempting to create a general, abstract definition that applies to all datasets, it becomes challenging because the concept of what makes a variable and an observation can change based on the context and dataset.\n",
        "  4. Read Section 2.2. How does Wickham define values, variables, and observations?\n",
        "      * Values, according to Wickham, are the individual data points in a dataset, and they can be either quantitative (numbers) or qualitative (strings). They represent measurements or attributes of interest.\n",
        "      * Variables are attributes or characteristics being measured or observed in a dataset. Variables group together all values that measure the same underlying attribute across different units or observations. \n",
        "      * Observations represent the individual units or entities being studied in a dataset. Each observation contains values measured on the same unit across various attributes or variables.\n",
        "  5. How is \"Tidy Data\" defined in section 2.3?\n",
        "      * Tidy data is defined as a standardized way of structuring a dataset, aligning data's meaning with its structure:\n",
        "        - Each variable becomes a column.\n",
        "        - Each observation becomes a row.\n",
        "        - Each observational unit forms a separate table.\n",
        "  6. Read the intro to Section 3 and Section 3.1. What are the 5 most common problems with messy datasets? Why are the data in Table 4 messy? What is \"melting\" a dataset?\n",
        "      * The 5 most common problems are:\n",
        "        - Column headers as values, not variable names\n",
        "        - Multiple variables stored in one column\n",
        "        - Variables stored in both rows and columns\n",
        "        - Multiple types of observational units stored in the same table\n",
        "        - A single observational unit is stored in multiple tables\n",
        "      * Table 4 is messy because it demonstrates the first problem, where column headers contain values instead of variable names. \n",
        "      * \"Melting\" a dataset refers to the process of transforming it from a wide format, where variables are represented as columns, into a long format, where values are stacked into rows. \n",
        "  7. Why, specifically, is table 11 messy but table 12 tidy and \"molten\"?\n",
        "        * Table 11 is considered messy because it lacks the structured organization required for efficient data analysis, while Table 12 is tidy and \"molten\" because it has been transformed into a format that conforms to the principles of tidy data, making it more suitable for analysis and interpretation.\n",
        "  8. Read Section 6. What is the \"chicken-and-egg\" problem with focusing on tidy data? What does Wickham hope happens in the future with further work on the subject of data wrangling?\n",
        "       * The \"chicken-and-egg\" issue in data wrangling is where the structure of data (tidy data) and the tools used for analysis (tidy tools) are interdependent. Tidy data is most beneficial when used with compatible tools, creating a challenge of mutual reliance. This situation can limit progress, as advancements in data analysis may be constrained by existing data structures and tools.\n",
        "      * Wickham anticipates future improvements in data wrangling, both incrementally and through exploring alternative data structuring methods. He emphasizes the importance of considering human factors and user-centered design in tool development and envisions the tidy data framework evolving as more research is conducted in this area."
      ]
    },
    {
      "cell_type": "markdown",
      "id": "da879ea7-8aac-48a3-b6c2-daea56d2e072",
      "metadata": {
        "id": "da879ea7-8aac-48a3-b6c2-daea56d2e072"
      },
      "source": [
        "**Q2.** This question provides some practice cleaning variables which have common problems.\n",
        "1. Numeric variable: For `./data/airbnb_hw.csv`, clean the `Price` variable as well as you can, and explain the choices you make. How many missing values do you end up with? (Hint: What happens to the formatting when a price goes over 999 dollars, say from 675 to 1,112?)\n",
        "2. Categorical variable: For the `./data/sharks.csv` data covered in the lecture, clean the \"Type\" variable as well as you can, and explain the choices you make.\n",
        "3. Dummy variable: For the pretrial data covered in the lecture, clean the `WhetherDefendantWasReleasedPretrial` variable as well as you can, and, in particular, replace missing values with `np.nan`.\n",
        "4. Missing values, not at random: For the pretrial data covered in the lecture, clean the `ImposedSentenceAllChargeInContactEvent` variable as well as you can, and explain the choices you make. (Hint: Look at the `SentenceTypeAllChargesAtConvictionInContactEvent` variable.)"
      ]
    },
    {
      "cell_type": "code",
      "execution_count": 9,
      "id": "24f8423f",
      "metadata": {},
      "outputs": [
        {
          "data": {
            "text/plain": [
              "0"
            ]
          },
          "execution_count": 9,
          "metadata": {},
          "output_type": "execute_result"
        }
      ],
      "source": [
        "import pandas as pd\n",
        "\n",
        "# load dataset\n",
        "airbnb_df = pd.read_csv('./data/airbnb_hw.csv')\n",
        "\n",
        "# remove commas from col\n",
        "airbnb_df['Price'] = airbnb_df['Price'].str.replace(',', '')\n",
        "\n",
        "# convert col to numeric type\n",
        "airbnb_df['Price'] = pd.to_numeric(airbnb_df['Price'], errors='coerce')\n",
        "\n",
        "# count num of missing values in price col\n",
        "missing_val_count = airbnb_df['Price'].isna().sum()\n",
        "\n",
        "missing_val_count\n"
      ]
    },
    {
      "attachments": {},
      "cell_type": "markdown",
      "id": "d2a3f520",
      "metadata": {},
      "source": [
        "**Q2.1**\n",
        "To clean the Price column, I removed commas and then converted it to numeric. I end up with 0 missing values."
      ]
    },
    {
      "cell_type": "code",
      "execution_count": 10,
      "id": "844dd0b8",
      "metadata": {},
      "outputs": [
        {
          "name": "stderr",
          "output_type": "stream",
          "text": [
            "C:\\Users\\allard.ti\\AppData\\Local\\Temp\\ipykernel_3828\\610896713.py:2: DtypeWarning: Columns (10,17,18,19,20,21,24) have mixed types. Specify dtype option on import or set low_memory=False.\n",
            "  sharks_df = pd.read_csv('./data/sharks.csv')\n"
          ]
        },
        {
          "data": {
            "text/plain": [
              "array(['Unprovoked', 'Provoked', 'Questionable', 'Watercraft',\n",
              "       'Unconfirmed', 'Unverified', 'Invalid', 'Under investigation',\n",
              "       'Boating', 'Sea Disaster', nan, 'Boat', 'Boatomg'], dtype=object)"
            ]
          },
          "execution_count": 10,
          "metadata": {},
          "output_type": "execute_result"
        }
      ],
      "source": [
        "# load dataset\n",
        "sharks_df = pd.read_csv('./data/sharks.csv')\n",
        "\n",
        "# display unique values\n",
        "unique_types = sharks_df['Type'].unique()\n",
        "unique_types"
      ]
    },
    {
      "cell_type": "code",
      "execution_count": 14,
      "id": "08832945",
      "metadata": {},
      "outputs": [
        {
          "data": {
            "text/plain": [
              "array(['Unprovoked', 'Provoked', 'Unknown', 'Boating'], dtype=object)"
            ]
          },
          "execution_count": 14,
          "metadata": {},
          "output_type": "execute_result"
        }
      ],
      "source": [
        "# combine 'boating' 'watercraft' 'boat' 'boatomg' 'sea disaster'\n",
        "sharks_df['Type'] = sharks_df['Type'].replace(['Watercraft', 'Boat', 'Boatomg', 'Sea Disaster'], 'Boating')\n",
        "\n",
        "# combine 'unconfirmed' 'unverified' 'questionable' 'under investigation' 'invalid' to 'unknown'\n",
        "sharks_df['Type'] = sharks_df['Type'].replace(['Unconfirmed', 'Unverified', 'Questionable', 'Under investigation', 'Invalid'], 'Unknown')\n",
        "\n",
        "# replace missing vals with unknown\n",
        "sharks_df['Type'].fillna('Unknown', inplace=True)\n",
        "\n",
        "# display updated unique values\n",
        "updated_unique_types = sharks_df['Type'].unique()\n",
        "updated_unique_types"
      ]
    },
    {
      "attachments": {},
      "cell_type": "markdown",
      "id": "8a6a8685",
      "metadata": {},
      "source": [
        "**Q2.2**\n",
        "To clean the Type variable, I combined all of the boating related values to be labeled as \"Boating\". I also combined all of the values that I felt were variations of \"Unknown\" and combined them as such."
      ]
    },
    {
      "attachments": {},
      "cell_type": "markdown",
      "id": "cc4ba87f",
      "metadata": {},
      "source": [
        "**Q2.3**\n"
      ]
    },
    {
      "cell_type": "markdown",
      "id": "c11bcd96-2834-41a4-80fe-d354b4277fd9",
      "metadata": {
        "id": "c11bcd96-2834-41a4-80fe-d354b4277fd9"
      },
      "source": [
        "**Q3.** This question provides some practice doing exploratory data analysis and visualization.\n",
        "\n",
        "The \"relevant\" variables for this question are:\n",
        "  - `level` - Level of institution (4-year, 2-year)\n",
        "  - `aid_value` - The average amount of student aid going to undergraduate recipients\n",
        "  - `control` - Public, Private not-for-profit, Private for-profit\n",
        "  - `grad_100_value` - percentage of first-time, full-time, degree-seeking undergraduates who complete a degree or certificate program within 100 percent of expected time (bachelor's-seeking group at 4-year institutions)\n",
        "\n",
        "1. Load the `./data/college_completion.csv` data with Pandas.\n",
        "2. What are are the dimensions of the data? How many observations are there? What are the variables included? Use `.head()` to examine the first few rows of data.\n",
        "3. Cross tabulate `control` and `level`. Describe the patterns you see.\n",
        "4. For `grad_100_value`, create a histogram, kernel density plot, boxplot, and statistical description.\n",
        "5. For `grad_100_value`, create a grouped kernel density plot by `control` and by `level`. Describe what you see. Use `groupby` and `.describe` to make grouped calculations of statistical descriptions of `grad_100_value` by `level` and `control`. Which institutions appear to have the best graduation rates?\n",
        "6. Create a new variable, `df['levelXcontrol']=df['level']+', '+df['control']` that interacts level and control. Make a grouped kernel density plot. Which institutions appear to have the best graduation rates?\n",
        "7. Make a kernel density plot of `aid_value`. Notice that your graph is \"bi-modal\", having two little peaks that represent locally most common values. Now group your graph by `level` and `control`. What explains the bi-modal nature of the graph? Use `groupby` and `.describe` to make grouped calculations of statistical descriptions of `aid_value` by `level` and `control`.\n",
        "8. Make a scatterplot of `grad_100_value` by `aid_value`. Describe what you see. Now make the same plot, grouping by `level` and then `control`. Describe what you see. For which kinds of institutions does aid seem to increase graduation rates?"
      ]
    },
    {
      "cell_type": "markdown",
      "id": "98d34a3b-c21d-4dc9-a8d2-fb7686804ceb",
      "metadata": {
        "id": "98d34a3b-c21d-4dc9-a8d2-fb7686804ceb"
      },
      "source": [
        "**Q4.** This question uses the Airbnb data to practice making visualizations.\n",
        "\n",
        "  1. Load the `./data/airbnb_hw.csv` data with Pandas. You should have cleaned the `Price` variable in question 2, and you'll need it later for this question.\n",
        "  2. What are are the dimensions of the data? How many observations are there? What are the variables included? Use `.head()` to examine the first few rows of data.\n",
        "  3. Cross tabulate `Room Type` and `Property Type`. What patterns do you see in what kinds of rentals are available? For which kinds of properties are private rooms more common than renting the entire property?\n",
        "  4. For `Price`, make a histogram, kernel density, box plot, and a statistical description of the variable. Are the data badly scaled? Are there many outliers? Use `log` to transform price into a new variable, `price_log`, and take these steps again.\n",
        "  5. Make a scatterplot of `price_log` and `Beds`. Describe what you see. Use `.groupby()` to compute a desciption of `Price` conditional on/grouped by the number of beds. Describe any patterns you see in the average price and standard deviation in prices.\n",
        "  6. Make a scatterplot of `price_log` and `Beds`, but color the graph by `Room Type` and `Property Type`. What patterns do you see? Compute a description of `Price` conditional on `Room Type` and `Property Type`. Which Room Type and Property Type have the highest prices on average? Which have the highest standard deviation? Does the mean or median appear to be a more reliable estimate of central tendency, and explain why?\n",
        "  7. We've looked a bit at this `price_log` and `Beds` scatterplot. Use seaborn to make a `jointplot` with `kind=hex`. Where are the data actually distributed? How does it affect the way you think about the plots in 5 and 6?"
      ]
    },
    {
      "cell_type": "markdown",
      "id": "649494cd-cfd6-4f80-992a-9994fc19e1d5",
      "metadata": {
        "id": "649494cd-cfd6-4f80-992a-9994fc19e1d5"
      },
      "source": [
        "**Q5.** Many important datasets contain a race variable, typically limited to a handful of values often including Black, White, Asian, Latino, and Indigenous. This question looks at data gathering efforts on this variable by the U.S. Federal government.\n",
        "\n",
        "1. How did the most recent US Census gather data on race?\n",
        "2. Why do we gather these data? What role do these kinds of data play in politics and society? Why does data quality matter?\n",
        "3. Please provide a constructive criticism of how the Census was conducted: What was done well? What do you think was missing? How should future large scale surveys be adjusted to best reflect the diversity of the population? Could some of the Census' good practices be adopted more widely to gather richer and more useful data?\n",
        "4. How did the Census gather data on sex and gender? Please provide a similar constructive criticism of their practices.\n",
        "5. When it comes to cleaning data, what concerns do you have about protected characteristics like sex, gender, sexual identity, or race? What challenges can you imagine arising when there are missing values? What good or bad practices might people adopt, and why?\n",
        "6. Suppose someone invented an algorithm to impute values for protected characteristics like race, gender, sex, or sexuality. What kinds of concerns would you have?"
      ]
    },
    {
      "cell_type": "markdown",
      "id": "2f38f2fd-6381-481d-bba9-017f3d363426",
      "metadata": {
        "id": "2f38f2fd-6381-481d-bba9-017f3d363426"
      },
      "source": [
        "**Q6.** Open the `./data/CBO_data.pdf` file. This contains tax data for 2019, explaining where the money comes from that the U.S. Federal Government Spends in terms of taxation on individuals/families and payroll taxes (the amount that your employer pays in taxes on your wages).\n",
        "\n",
        "For some context, the Federal government ultimately spent about $4.4 trillion in 2019, which was 21% of GDP (the total monetary value of all goods and services produced within the United States). Individual Income Taxes is the amount individuals pay on their wages to the Federal government, Corporate Income Taxes is the taxes individuals pay on capital gains from investment when they sell stock or other financial instruments, Payroll Taxes is the tax your employer pays on your wages, Excises and Customs Duties are taxes on goods or services like sin taxes on cigarettes or alcohol, and Estate and Gift Taxes are taxes paid on transfers of wealth to other people.\n",
        "\n",
        "1. Get the Millions of Families and Billions of Dollars data into a .csv file and load it with Pandas.\n",
        "2. Create a bar plot of individual income taxes by income decile. Explain what the graph shows. Why are some values negative?\n",
        "3. Create a bar plot of Total Federal Taxes by income decile. Which deciles are paying net positive amounts, and which are paying net negative amounts?\n",
        "4. Create a stacked bar plot for which Total Federal Taxes is grouped by Individual Income Taxes, Payroll Taxes, Excises and Customs Duties, and Estate and Gift Taxes. How does the share of taxes paid vary across the adjusted income deciles? (Hint: Are these the kind of data you want to melt?)\n",
        "5. Below the Total line for Millions of Families and Billions of Dollars, there are data for the richest of the richest families. Plot this alongside the bars for the deciles above the Total line. Describe your results.\n",
        "6. Get the Percent Distribution data into a .csv file and load it with Pandas. Create a bar graph of Total Federal Taxes by income decile.\n",
        "7. A tax system is progressive if higher-income and wealthier individuals pay more than lower-income and less wealthy individuals, and it is regressive if the opposite is true. Is the U.S. tax system progressive in terms of amount paid? In terms of the percentage of the overall total?\n",
        "8. Do the rich pay enough in taxes? Defend your answer."
      ]
    }
  ],
  "metadata": {
    "colab": {
      "provenance": []
    },
    "kernelspec": {
      "display_name": "Python 3 (ipykernel)",
      "language": "python",
      "name": "python3"
    },
    "language_info": {
      "codemirror_mode": {
        "name": "ipython",
        "version": 3
      },
      "file_extension": ".py",
      "mimetype": "text/x-python",
      "name": "python",
      "nbconvert_exporter": "python",
      "pygments_lexer": "ipython3",
      "version": "3.8.5"
    }
  },
  "nbformat": 4,
  "nbformat_minor": 5
}
