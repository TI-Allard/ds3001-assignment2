{
  "cells": [
    {
      "cell_type": "markdown",
      "id": "13ad028b-72b7-43ed-aa78-96fd4e518040",
      "metadata": {
        "id": "13ad028b-72b7-43ed-aa78-96fd4e518040"
      },
      "source": [
        "# Assignment: Data Wrangling and Exploratory Data Analysis\n",
        "## Do Q1 and Q2, and one other question.\n",
        "`! git clone https://www.github.com/DS3001/assignment2`"
      ]
    },
    {
      "attachments": {},
      "cell_type": "markdown",
      "id": "5735a4d4-8be8-433a-a351-70eb8002e632",
      "metadata": {
        "id": "5735a4d4-8be8-433a-a351-70eb8002e632"
      },
      "source": [
        "**Q1.** Open the \"tidy_data.pdf\" document in the repo, which is a paper called Tidy Data by Hadley Wickham.\n",
        "\n",
        "  1. Read the abstract. What is this paper about?\n",
        "      * The paper explores the concept of data tidying, which is when data is restructured to make analysis easier. \n",
        "  2. Read the introduction. What is the \"tidy data standard\" intended to accomplish?\n",
        "      * The tidy data standard has two goals: simplify data cleaning and to facilitate data analysis and tool development. Having a standard makes it easier to clean data because people don't have to \"reinvent the wheel\" each time and can save brainpower.\n",
        "  3. Read the intro to section 2. What does this sentence mean: \"Like families, tidy datasets are all alike but every messy dataset is messy in its own way.\" What does this sentence mean: \"For a given dataset, it’s usually easy to figure out what are observations and what are variables, but it is surprisingly difficult to precisely define variables and observations in general.\"\n",
        "      * The first sentence about families is referring to the Leo Tolstoy quote, and means that tidy datasets adhere to a standardized structure and format, which makes them similar and consistent in their organization. In contrast, messy datasets vary widely in terms of how they are structured and formatted. There are many ways to be a messy dataset (or an unhappy family) but not many ways to be tidy (or happy).\n",
        "      * The second sentence means that when you look at a specific dataset, it's often straightforward to identify what makes up individual data points (observations) and what represents the characteristics being measured (variables). However, when attempting to create a general, abstract definition that applies to all datasets, it becomes challenging because the concept of what makes a variable and an observation can change based on the context and dataset.\n",
        "  4. Read Section 2.2. How does Wickham define values, variables, and observations?\n",
        "      * Values, according to Wickham, are the individual data points in a dataset, and they can be either quantitative (numbers) or qualitative (strings). They represent measurements or attributes of interest.\n",
        "      * Variables are attributes or characteristics being measured or observed in a dataset. Variables group together all values that measure the same underlying attribute across different units or observations. \n",
        "      * Observations represent the individual units or entities being studied in a dataset. Each observation contains values measured on the same unit across various attributes or variables.\n",
        "  5. How is \"Tidy Data\" defined in section 2.3?\n",
        "      * Tidy data is defined as a standardized way of structuring a dataset, aligning data's meaning with its structure:\n",
        "        - Each variable becomes a column.\n",
        "        - Each observation becomes a row.\n",
        "        - Each observational unit forms a separate table.\n",
        "  6. Read the intro to Section 3 and Section 3.1. What are the 5 most common problems with messy datasets? Why are the data in Table 4 messy? What is \"melting\" a dataset?\n",
        "      * The 5 most common problems are:\n",
        "        - Column headers as values, not variable names\n",
        "        - Multiple variables stored in one column\n",
        "        - Variables stored in both rows and columns\n",
        "        - Multiple types of observational units stored in the same table\n",
        "        - A single observational unit is stored in multiple tables\n",
        "      * Table 4 is messy because it demonstrates the first problem, where column headers contain values instead of variable names. \n",
        "      * \"Melting\" a dataset refers to the process of transforming it from a wide format, where variables are represented as columns, into a long format, where values are stacked into rows. \n",
        "  7. Why, specifically, is table 11 messy but table 12 tidy and \"molten\"?\n",
        "        * Table 11 is considered messy because it lacks the structured organization required for efficient data analysis, while Table 12 is tidy and \"molten\" because it has been transformed into a format that conforms to the principles of tidy data, making it more suitable for analysis and interpretation.\n",
        "  8. Read Section 6. What is the \"chicken-and-egg\" problem with focusing on tidy data? What does Wickham hope happens in the future with further work on the subject of data wrangling?\n",
        "       * The \"chicken-and-egg\" issue in data wrangling is where the structure of data (tidy data) and the tools used for analysis (tidy tools) are interdependent. Tidy data is most beneficial when used with compatible tools, creating a challenge of mutual reliance. This situation can limit progress, as advancements in data analysis may be constrained by existing data structures and tools.\n",
        "      * Wickham anticipates future improvements in data wrangling, both incrementally and through exploring alternative data structuring methods. He emphasizes the importance of considering human factors and user-centered design in tool development and envisions the tidy data framework evolving as more research is conducted in this area."
      ]
    },
    {
      "cell_type": "markdown",
      "id": "da879ea7-8aac-48a3-b6c2-daea56d2e072",
      "metadata": {
        "id": "da879ea7-8aac-48a3-b6c2-daea56d2e072"
      },
      "source": [
        "**Q2.** This question provides some practice cleaning variables which have common problems.\n",
        "1. Numeric variable: For `./data/airbnb_hw.csv`, clean the `Price` variable as well as you can, and explain the choices you make. How many missing values do you end up with? (Hint: What happens to the formatting when a price goes over 999 dollars, say from 675 to 1,112?)\n",
        "2. Categorical variable: For the `./data/sharks.csv` data covered in the lecture, clean the \"Type\" variable as well as you can, and explain the choices you make.\n",
        "3. Dummy variable: For the pretrial data covered in the lecture, clean the `WhetherDefendantWasReleasedPretrial` variable as well as you can, and, in particular, replace missing values with `np.nan`.\n",
        "4. Missing values, not at random: For the pretrial data covered in the lecture, clean the `ImposedSentenceAllChargeInContactEvent` variable as well as you can, and explain the choices you make. (Hint: Look at the `SentenceTypeAllChargesAtConvictionInContactEvent` variable.)"
      ]
    },
    {
      "attachments": {},
      "cell_type": "markdown",
      "id": "d2a3f520",
      "metadata": {},
      "source": [
        "**Q2.1**\n",
        "To clean the Price column, I removed commas and then converted it to numeric. I end up with 0 missing values."
      ]
    },
    {
      "cell_type": "code",
      "execution_count": 2,
      "id": "24f8423f",
      "metadata": {},
      "outputs": [
        {
          "data": {
            "text/plain": [
              "0"
            ]
          },
          "execution_count": 2,
          "metadata": {},
          "output_type": "execute_result"
        }
      ],
      "source": [
        "import pandas as pd\n",
        "\n",
        "# load dataset\n",
        "airbnb_df = pd.read_csv('./data/airbnb_hw.csv')\n",
        "\n",
        "# remove commas from col\n",
        "airbnb_df['Price'] = airbnb_df['Price'].str.replace(',', '')\n",
        "\n",
        "# convert col to numeric type\n",
        "airbnb_df['Price'] = pd.to_numeric(airbnb_df['Price'], errors='coerce')\n",
        "\n",
        "# count num of missing values in price col\n",
        "missing_val_count = airbnb_df['Price'].isna().sum()\n",
        "\n",
        "missing_val_count\n"
      ]
    },
    {
      "attachments": {},
      "cell_type": "markdown",
      "id": "8a6a8685",
      "metadata": {},
      "source": [
        "**Q2.2**\n",
        "To clean the Type variable, I combined all of the boating related values to be labeled as \"Boating\". I also combined all of the values that I felt were variations of \"Unknown\" and combined them as such."
      ]
    },
    {
      "cell_type": "code",
      "execution_count": 3,
      "id": "844dd0b8",
      "metadata": {},
      "outputs": [
        {
          "name": "stderr",
          "output_type": "stream",
          "text": [
            "C:\\Users\\allard.ti\\AppData\\Local\\Temp\\ipykernel_36856\\610896713.py:2: DtypeWarning: Columns (10,17,18,19,20,21,24) have mixed types. Specify dtype option on import or set low_memory=False.\n",
            "  sharks_df = pd.read_csv('./data/sharks.csv')\n"
          ]
        },
        {
          "data": {
            "text/plain": [
              "array(['Unprovoked', 'Provoked', 'Questionable', 'Watercraft',\n",
              "       'Unconfirmed', 'Unverified', 'Invalid', 'Under investigation',\n",
              "       'Boating', 'Sea Disaster', nan, 'Boat', 'Boatomg'], dtype=object)"
            ]
          },
          "execution_count": 3,
          "metadata": {},
          "output_type": "execute_result"
        }
      ],
      "source": [
        "# load dataset\n",
        "sharks_df = pd.read_csv('./data/sharks.csv')\n",
        "\n",
        "# display unique values\n",
        "unique_types = sharks_df['Type'].unique()\n",
        "unique_types"
      ]
    },
    {
      "cell_type": "code",
      "execution_count": 4,
      "id": "08832945",
      "metadata": {},
      "outputs": [
        {
          "data": {
            "text/plain": [
              "array(['Unprovoked', 'Provoked', 'Unknown', 'Boating'], dtype=object)"
            ]
          },
          "execution_count": 4,
          "metadata": {},
          "output_type": "execute_result"
        }
      ],
      "source": [
        "# combine 'boating' 'watercraft' 'boat' 'boatomg' 'sea disaster'\n",
        "sharks_df['Type'] = sharks_df['Type'].replace(['Watercraft', 'Boat', 'Boatomg', 'Sea Disaster'], 'Boating')\n",
        "\n",
        "# combine 'unconfirmed' 'unverified' 'questionable' 'under investigation' 'invalid' to 'unknown'\n",
        "sharks_df['Type'] = sharks_df['Type'].replace(['Unconfirmed', 'Unverified', 'Questionable', 'Under investigation', 'Invalid'], 'Unknown')\n",
        "\n",
        "# replace missing vals with unknown\n",
        "sharks_df['Type'].fillna('Unknown', inplace=True)\n",
        "\n",
        "# display updated unique values\n",
        "updated_unique_types = sharks_df['Type'].unique()\n",
        "updated_unique_types"
      ]
    },
    {
      "attachments": {},
      "cell_type": "markdown",
      "id": "cc4ba87f",
      "metadata": {},
      "source": [
        "**Q2.3**\n"
      ]
    },
    {
      "cell_type": "code",
      "execution_count": 7,
      "id": "a8f46f97",
      "metadata": {},
      "outputs": [
        {
          "data": {
            "text/plain": [
              "0    NaN\n",
              "1    0.0\n",
              "2    0.0\n",
              "3    0.0\n",
              "4    1.0\n",
              "Name: released, dtype: float64"
            ]
          },
          "execution_count": 7,
          "metadata": {},
          "output_type": "execute_result"
        }
      ],
      "source": [
        "import numpy as np\n",
        "\n",
        "# load dataset\n",
        "pretrial_df = pd.read_csv('./data/pretrial_data.csv')\n",
        "\n",
        "pretrial_df['released'].head()"
      ]
    },
    {
      "cell_type": "code",
      "execution_count": 8,
      "id": "97247018",
      "metadata": {},
      "outputs": [
        {
          "data": {
            "text/plain": [
              "1.0    19154\n",
              "0.0     3801\n",
              "NaN       31\n",
              "Name: released, dtype: int64"
            ]
          },
          "execution_count": 8,
          "metadata": {},
          "output_type": "execute_result"
        }
      ],
      "source": [
        "# Check the unique values and their counts in the 'released' column\n",
        "unique_vals = pretrial_df['released'].value_counts(dropna=False)\n",
        "unique_vals\n"
      ]
    },
    {
      "attachments": {},
      "cell_type": "markdown",
      "id": "7f0a7d43",
      "metadata": {},
      "source": [
        "**Q2.4**\n",
        "For rows where `sentence_type` was 0.0 (meaning probation/no incarceration) but did not match `sentence`, I set `sentence` to 0."
      ]
    },
    {
      "cell_type": "code",
      "execution_count": 9,
      "id": "fdec3b7d",
      "metadata": {},
      "outputs": [
        {
          "data": {
            "text/html": [
              "<div>\n",
              "<style scoped>\n",
              "    .dataframe tbody tr th:only-of-type {\n",
              "        vertical-align: middle;\n",
              "    }\n",
              "\n",
              "    .dataframe tbody tr th {\n",
              "        vertical-align: top;\n",
              "    }\n",
              "\n",
              "    .dataframe thead th {\n",
              "        text-align: right;\n",
              "    }\n",
              "</style>\n",
              "<table border=\"1\" class=\"dataframe\">\n",
              "  <thead>\n",
              "    <tr style=\"text-align: right;\">\n",
              "      <th></th>\n",
              "      <th>Unnamed: 0</th>\n",
              "      <th>case_type</th>\n",
              "      <th>age</th>\n",
              "      <th>sex</th>\n",
              "      <th>race</th>\n",
              "      <th>is_poor</th>\n",
              "      <th>bond</th>\n",
              "      <th>bond_type</th>\n",
              "      <th>prior_F</th>\n",
              "      <th>prior_M</th>\n",
              "      <th>gini</th>\n",
              "      <th>released</th>\n",
              "      <th>sentence_type</th>\n",
              "      <th>sentence</th>\n",
              "      <th>bond_NA</th>\n",
              "      <th>held_wo_bail</th>\n",
              "      <th>sentence_NA</th>\n",
              "    </tr>\n",
              "  </thead>\n",
              "  <tbody>\n",
              "    <tr>\n",
              "      <th>0</th>\n",
              "      <td>0</td>\n",
              "      <td>F</td>\n",
              "      <td>31.0</td>\n",
              "      <td>M</td>\n",
              "      <td>W</td>\n",
              "      <td>NaN</td>\n",
              "      <td>NaN</td>\n",
              "      <td>7</td>\n",
              "      <td>0.0</td>\n",
              "      <td>0.0</td>\n",
              "      <td>0.44</td>\n",
              "      <td>NaN</td>\n",
              "      <td>NaN</td>\n",
              "      <td>NaN</td>\n",
              "      <td>True</td>\n",
              "      <td>False</td>\n",
              "      <td>True</td>\n",
              "    </tr>\n",
              "    <tr>\n",
              "      <th>1</th>\n",
              "      <td>1</td>\n",
              "      <td>F</td>\n",
              "      <td>60.0</td>\n",
              "      <td>M</td>\n",
              "      <td>B</td>\n",
              "      <td>NaN</td>\n",
              "      <td>NaN</td>\n",
              "      <td>7</td>\n",
              "      <td>13.0</td>\n",
              "      <td>21.0</td>\n",
              "      <td>0.44</td>\n",
              "      <td>0.0</td>\n",
              "      <td>0.0</td>\n",
              "      <td>60.000000</td>\n",
              "      <td>True</td>\n",
              "      <td>False</td>\n",
              "      <td>False</td>\n",
              "    </tr>\n",
              "    <tr>\n",
              "      <th>2</th>\n",
              "      <td>2</td>\n",
              "      <td>M</td>\n",
              "      <td>27.0</td>\n",
              "      <td>M</td>\n",
              "      <td>W</td>\n",
              "      <td>NaN</td>\n",
              "      <td>NaN</td>\n",
              "      <td>7</td>\n",
              "      <td>0.0</td>\n",
              "      <td>0.0</td>\n",
              "      <td>0.44</td>\n",
              "      <td>0.0</td>\n",
              "      <td>1.0</td>\n",
              "      <td>12.000000</td>\n",
              "      <td>True</td>\n",
              "      <td>False</td>\n",
              "      <td>False</td>\n",
              "    </tr>\n",
              "    <tr>\n",
              "      <th>3</th>\n",
              "      <td>3</td>\n",
              "      <td>M</td>\n",
              "      <td>27.0</td>\n",
              "      <td>M</td>\n",
              "      <td>B</td>\n",
              "      <td>0.0</td>\n",
              "      <td>NaN</td>\n",
              "      <td>7</td>\n",
              "      <td>0.0</td>\n",
              "      <td>9.0</td>\n",
              "      <td>0.44</td>\n",
              "      <td>0.0</td>\n",
              "      <td>1.0</td>\n",
              "      <td>0.985626</td>\n",
              "      <td>True</td>\n",
              "      <td>False</td>\n",
              "      <td>False</td>\n",
              "    </tr>\n",
              "    <tr>\n",
              "      <th>4</th>\n",
              "      <td>4</td>\n",
              "      <td>F</td>\n",
              "      <td>28.0</td>\n",
              "      <td>F</td>\n",
              "      <td>W</td>\n",
              "      <td>0.0</td>\n",
              "      <td>NaN</td>\n",
              "      <td>7</td>\n",
              "      <td>0.0</td>\n",
              "      <td>0.0</td>\n",
              "      <td>0.44</td>\n",
              "      <td>1.0</td>\n",
              "      <td>4.0</td>\n",
              "      <td>0.000000</td>\n",
              "      <td>True</td>\n",
              "      <td>False</td>\n",
              "      <td>True</td>\n",
              "    </tr>\n",
              "  </tbody>\n",
              "</table>\n",
              "</div>"
            ],
            "text/plain": [
              "   Unnamed: 0 case_type   age sex race  is_poor  bond  bond_type  prior_F  \\\n",
              "0           0         F  31.0   M    W      NaN   NaN          7      0.0   \n",
              "1           1         F  60.0   M    B      NaN   NaN          7     13.0   \n",
              "2           2         M  27.0   M    W      NaN   NaN          7      0.0   \n",
              "3           3         M  27.0   M    B      0.0   NaN          7      0.0   \n",
              "4           4         F  28.0   F    W      0.0   NaN          7      0.0   \n",
              "\n",
              "   prior_M  gini  released  sentence_type   sentence  bond_NA  held_wo_bail  \\\n",
              "0      0.0  0.44       NaN            NaN        NaN     True         False   \n",
              "1     21.0  0.44       0.0            0.0  60.000000     True         False   \n",
              "2      0.0  0.44       0.0            1.0  12.000000     True         False   \n",
              "3      9.0  0.44       0.0            1.0   0.985626     True         False   \n",
              "4      0.0  0.44       1.0            4.0   0.000000     True         False   \n",
              "\n",
              "   sentence_NA  \n",
              "0         True  \n",
              "1        False  \n",
              "2        False  \n",
              "3        False  \n",
              "4         True  "
            ]
          },
          "execution_count": 9,
          "metadata": {},
          "output_type": "execute_result"
        }
      ],
      "source": [
        "pretrial_df.head()"
      ]
    },
    {
      "cell_type": "code",
      "execution_count": 10,
      "id": "43171604",
      "metadata": {},
      "outputs": [],
      "source": [
        "# set the `sentence` value to 0 for records with `sentence_type` as \"Probation/no incarceration\"\n",
        "pretrial_df.loc[pretrial_df['sentence_type'] == 0, 'sentence'] = 0"
      ]
    },
    {
      "cell_type": "code",
      "execution_count": 11,
      "id": "44aea753",
      "metadata": {},
      "outputs": [
        {
          "data": {
            "text/html": [
              "<div>\n",
              "<style scoped>\n",
              "    .dataframe tbody tr th:only-of-type {\n",
              "        vertical-align: middle;\n",
              "    }\n",
              "\n",
              "    .dataframe tbody tr th {\n",
              "        vertical-align: top;\n",
              "    }\n",
              "\n",
              "    .dataframe thead th {\n",
              "        text-align: right;\n",
              "    }\n",
              "</style>\n",
              "<table border=\"1\" class=\"dataframe\">\n",
              "  <thead>\n",
              "    <tr style=\"text-align: right;\">\n",
              "      <th></th>\n",
              "      <th>Unnamed: 0</th>\n",
              "      <th>case_type</th>\n",
              "      <th>age</th>\n",
              "      <th>sex</th>\n",
              "      <th>race</th>\n",
              "      <th>is_poor</th>\n",
              "      <th>bond</th>\n",
              "      <th>bond_type</th>\n",
              "      <th>prior_F</th>\n",
              "      <th>prior_M</th>\n",
              "      <th>gini</th>\n",
              "      <th>released</th>\n",
              "      <th>sentence_type</th>\n",
              "      <th>sentence</th>\n",
              "      <th>bond_NA</th>\n",
              "      <th>held_wo_bail</th>\n",
              "      <th>sentence_NA</th>\n",
              "    </tr>\n",
              "  </thead>\n",
              "  <tbody>\n",
              "    <tr>\n",
              "      <th>0</th>\n",
              "      <td>0</td>\n",
              "      <td>F</td>\n",
              "      <td>31.0</td>\n",
              "      <td>M</td>\n",
              "      <td>W</td>\n",
              "      <td>NaN</td>\n",
              "      <td>NaN</td>\n",
              "      <td>7</td>\n",
              "      <td>0.0</td>\n",
              "      <td>0.0</td>\n",
              "      <td>0.44</td>\n",
              "      <td>NaN</td>\n",
              "      <td>NaN</td>\n",
              "      <td>NaN</td>\n",
              "      <td>True</td>\n",
              "      <td>False</td>\n",
              "      <td>True</td>\n",
              "    </tr>\n",
              "    <tr>\n",
              "      <th>1</th>\n",
              "      <td>1</td>\n",
              "      <td>F</td>\n",
              "      <td>60.0</td>\n",
              "      <td>M</td>\n",
              "      <td>B</td>\n",
              "      <td>NaN</td>\n",
              "      <td>NaN</td>\n",
              "      <td>7</td>\n",
              "      <td>13.0</td>\n",
              "      <td>21.0</td>\n",
              "      <td>0.44</td>\n",
              "      <td>0.0</td>\n",
              "      <td>0.0</td>\n",
              "      <td>0.000000</td>\n",
              "      <td>True</td>\n",
              "      <td>False</td>\n",
              "      <td>False</td>\n",
              "    </tr>\n",
              "    <tr>\n",
              "      <th>2</th>\n",
              "      <td>2</td>\n",
              "      <td>M</td>\n",
              "      <td>27.0</td>\n",
              "      <td>M</td>\n",
              "      <td>W</td>\n",
              "      <td>NaN</td>\n",
              "      <td>NaN</td>\n",
              "      <td>7</td>\n",
              "      <td>0.0</td>\n",
              "      <td>0.0</td>\n",
              "      <td>0.44</td>\n",
              "      <td>0.0</td>\n",
              "      <td>1.0</td>\n",
              "      <td>12.000000</td>\n",
              "      <td>True</td>\n",
              "      <td>False</td>\n",
              "      <td>False</td>\n",
              "    </tr>\n",
              "    <tr>\n",
              "      <th>3</th>\n",
              "      <td>3</td>\n",
              "      <td>M</td>\n",
              "      <td>27.0</td>\n",
              "      <td>M</td>\n",
              "      <td>B</td>\n",
              "      <td>0.0</td>\n",
              "      <td>NaN</td>\n",
              "      <td>7</td>\n",
              "      <td>0.0</td>\n",
              "      <td>9.0</td>\n",
              "      <td>0.44</td>\n",
              "      <td>0.0</td>\n",
              "      <td>1.0</td>\n",
              "      <td>0.985626</td>\n",
              "      <td>True</td>\n",
              "      <td>False</td>\n",
              "      <td>False</td>\n",
              "    </tr>\n",
              "    <tr>\n",
              "      <th>4</th>\n",
              "      <td>4</td>\n",
              "      <td>F</td>\n",
              "      <td>28.0</td>\n",
              "      <td>F</td>\n",
              "      <td>W</td>\n",
              "      <td>0.0</td>\n",
              "      <td>NaN</td>\n",
              "      <td>7</td>\n",
              "      <td>0.0</td>\n",
              "      <td>0.0</td>\n",
              "      <td>0.44</td>\n",
              "      <td>1.0</td>\n",
              "      <td>4.0</td>\n",
              "      <td>0.000000</td>\n",
              "      <td>True</td>\n",
              "      <td>False</td>\n",
              "      <td>True</td>\n",
              "    </tr>\n",
              "  </tbody>\n",
              "</table>\n",
              "</div>"
            ],
            "text/plain": [
              "   Unnamed: 0 case_type   age sex race  is_poor  bond  bond_type  prior_F  \\\n",
              "0           0         F  31.0   M    W      NaN   NaN          7      0.0   \n",
              "1           1         F  60.0   M    B      NaN   NaN          7     13.0   \n",
              "2           2         M  27.0   M    W      NaN   NaN          7      0.0   \n",
              "3           3         M  27.0   M    B      0.0   NaN          7      0.0   \n",
              "4           4         F  28.0   F    W      0.0   NaN          7      0.0   \n",
              "\n",
              "   prior_M  gini  released  sentence_type   sentence  bond_NA  held_wo_bail  \\\n",
              "0      0.0  0.44       NaN            NaN        NaN     True         False   \n",
              "1     21.0  0.44       0.0            0.0   0.000000     True         False   \n",
              "2      0.0  0.44       0.0            1.0  12.000000     True         False   \n",
              "3      9.0  0.44       0.0            1.0   0.985626     True         False   \n",
              "4      0.0  0.44       1.0            4.0   0.000000     True         False   \n",
              "\n",
              "   sentence_NA  \n",
              "0         True  \n",
              "1        False  \n",
              "2        False  \n",
              "3        False  \n",
              "4         True  "
            ]
          },
          "execution_count": 11,
          "metadata": {},
          "output_type": "execute_result"
        }
      ],
      "source": [
        "pretrial_df.head()"
      ]
    },
    {
      "cell_type": "markdown",
      "id": "c11bcd96-2834-41a4-80fe-d354b4277fd9",
      "metadata": {
        "id": "c11bcd96-2834-41a4-80fe-d354b4277fd9"
      },
      "source": [
        "**Q3.** This question provides some practice doing exploratory data analysis and visualization.\n",
        "\n",
        "The \"relevant\" variables for this question are:\n",
        "  - `level` - Level of institution (4-year, 2-year)\n",
        "  - `aid_value` - The average amount of student aid going to undergraduate recipients\n",
        "  - `control` - Public, Private not-for-profit, Private for-profit\n",
        "  - `grad_100_value` - percentage of first-time, full-time, degree-seeking undergraduates who complete a degree or certificate program within 100 percent of expected time (bachelor's-seeking group at 4-year institutions)\n",
        "\n",
        "1. Load the `./data/college_completion.csv` data with Pandas.\n",
        "2. What are are the dimensions of the data? How many observations are there? What are the variables included? Use `.head()` to examine the first few rows of data.\n",
        "3. Cross tabulate `control` and `level`. Describe the patterns you see.\n",
        "4. For `grad_100_value`, create a histogram, kernel density plot, boxplot, and statistical description.\n",
        "5. For `grad_100_value`, create a grouped kernel density plot by `control` and by `level`. Describe what you see. Use `groupby` and `.describe` to make grouped calculations of statistical descriptions of `grad_100_value` by `level` and `control`. Which institutions appear to have the best graduation rates?\n",
        "6. Create a new variable, `df['levelXcontrol']=df['level']+', '+df['control']` that interacts level and control. Make a grouped kernel density plot. Which institutions appear to have the best graduation rates?\n",
        "7. Make a kernel density plot of `aid_value`. Notice that your graph is \"bi-modal\", having two little peaks that represent locally most common values. Now group your graph by `level` and `control`. What explains the bi-modal nature of the graph? Use `groupby` and `.describe` to make grouped calculations of statistical descriptions of `aid_value` by `level` and `control`.\n",
        "8. Make a scatterplot of `grad_100_value` by `aid_value`. Describe what you see. Now make the same plot, grouping by `level` and then `control`. Describe what you see. For which kinds of institutions does aid seem to increase graduation rates?"
      ]
    },
    {
      "cell_type": "code",
      "execution_count": 21,
      "id": "ebc8c379",
      "metadata": {},
      "outputs": [],
      "source": [
        "# 1 load data\n",
        "college_df = pd.read_csv('./data/college_completion.csv')\n"
      ]
    },
    {
      "cell_type": "code",
      "execution_count": 19,
      "id": "fb79bff8",
      "metadata": {},
      "outputs": [
        {
          "data": {
            "text/plain": [
              "((3798, 63),\n",
              " 3798,\n",
              " Index(['index', 'unitid', 'chronname', 'city', 'state', 'level', 'control',\n",
              "        'basic', 'hbcu', 'flagship', 'long_x', 'lat_y', 'site', 'student_count',\n",
              "        'awards_per_value', 'awards_per_state_value', 'awards_per_natl_value',\n",
              "        'exp_award_value', 'exp_award_state_value', 'exp_award_natl_value',\n",
              "        'exp_award_percentile', 'ft_pct', 'fte_value', 'fte_percentile',\n",
              "        'med_sat_value', 'med_sat_percentile', 'aid_value', 'aid_percentile',\n",
              "        'endow_value', 'endow_percentile', 'grad_100_value',\n",
              "        'grad_100_percentile', 'grad_150_value', 'grad_150_percentile',\n",
              "        'pell_value', 'pell_percentile', 'retain_value', 'retain_percentile',\n",
              "        'ft_fac_value', 'ft_fac_percentile', 'vsa_year',\n",
              "        'vsa_grad_after4_first', 'vsa_grad_elsewhere_after4_first',\n",
              "        'vsa_enroll_after4_first', 'vsa_enroll_elsewhere_after4_first',\n",
              "        'vsa_grad_after6_first', 'vsa_grad_elsewhere_after6_first',\n",
              "        'vsa_enroll_after6_first', 'vsa_enroll_elsewhere_after6_first',\n",
              "        'vsa_grad_after4_transfer', 'vsa_grad_elsewhere_after4_transfer',\n",
              "        'vsa_enroll_after4_transfer', 'vsa_enroll_elsewhere_after4_transfer',\n",
              "        'vsa_grad_after6_transfer', 'vsa_grad_elsewhere_after6_transfer',\n",
              "        'vsa_enroll_after6_transfer', 'vsa_enroll_elsewhere_after6_transfer',\n",
              "        'similar', 'state_sector_ct', 'carnegie_ct', 'counted_pct', 'nicknames',\n",
              "        'cohort_size'],\n",
              "       dtype='object'),\n",
              "    index  unitid                            chronname        city    state  \\\n",
              " 0      0  100654               Alabama A&M University      Normal  Alabama   \n",
              " 1      1  100663  University of Alabama at Birmingham  Birmingham  Alabama   \n",
              " 2      2  100690                   Amridge University  Montgomery  Alabama   \n",
              " 3      3  100706  University of Alabama at Huntsville  Huntsville  Alabama   \n",
              " 4      4  100724             Alabama State University  Montgomery  Alabama   \n",
              " \n",
              "     level                 control  \\\n",
              " 0  4-year                  Public   \n",
              " 1  4-year                  Public   \n",
              " 2  4-year  Private not-for-profit   \n",
              " 3  4-year                  Public   \n",
              " 4  4-year                  Public   \n",
              " \n",
              "                                                basic hbcu flagship  ...  \\\n",
              " 0  Masters Colleges and Universities--larger prog...    X      NaN  ...   \n",
              " 1  Research Universities--very high research acti...  NaN      NaN  ...   \n",
              " 2            Baccalaureate Colleges--Arts & Sciences  NaN      NaN  ...   \n",
              " 3  Research Universities--very high research acti...  NaN      NaN  ...   \n",
              " 4  Masters Colleges and Universities--larger prog...    X      NaN  ...   \n",
              " \n",
              "    vsa_grad_after6_transfer  vsa_grad_elsewhere_after6_transfer  \\\n",
              " 0                      36.4                                 5.6   \n",
              " 1                       NaN                                 NaN   \n",
              " 2                       NaN                                 NaN   \n",
              " 3                       0.0                                 0.0   \n",
              " 4                       NaN                                 NaN   \n",
              " \n",
              "   vsa_enroll_after6_transfer  vsa_enroll_elsewhere_after6_transfer  \\\n",
              " 0                       17.2                                  11.1   \n",
              " 1                        NaN                                   NaN   \n",
              " 2                        NaN                                   NaN   \n",
              " 3                        0.0                                   0.0   \n",
              " 4                        NaN                                   NaN   \n",
              " \n",
              "                                              similar  state_sector_ct  \\\n",
              " 0  232937|100724|405997|113607|139533|144005|2285...               13   \n",
              " 1  196060|180461|201885|145600|209542|236939|1268...               13   \n",
              " 2  217925|441511|205124|247825|197647|221856|1353...               16   \n",
              " 3  232186|133881|196103|196413|207388|171128|1900...               13   \n",
              " 4  100654|232937|242617|243197|144005|241739|2354...               13   \n",
              " \n",
              "    carnegie_ct  counted_pct  nicknames  cohort_size  \n",
              " 0          386      99.7|07        NaN        882.0  \n",
              " 1          106      56.0|07        UAB       1376.0  \n",
              " 2          252     100.0|07        NaN          3.0  \n",
              " 3          106      43.1|07        UAH        759.0  \n",
              " 4          386      88.0|07        ASU       1351.0  \n",
              " \n",
              " [5 rows x 63 columns])"
            ]
          },
          "execution_count": 19,
          "metadata": {},
          "output_type": "execute_result"
        }
      ],
      "source": [
        "# 2 dimensions\n",
        "dim = college_df.shape\n",
        "num_obsv = dim[0]\n",
        "college_vars = college_df.columns\n",
        "\n",
        "dim, num_obsv, college_vars, college_df.head()\n"
      ]
    },
    {
      "cell_type": "code",
      "execution_count": 22,
      "id": "47ae5366",
      "metadata": {},
      "outputs": [
        {
          "data": {
            "text/html": [
              "<div>\n",
              "<style scoped>\n",
              "    .dataframe tbody tr th:only-of-type {\n",
              "        vertical-align: middle;\n",
              "    }\n",
              "\n",
              "    .dataframe tbody tr th {\n",
              "        vertical-align: top;\n",
              "    }\n",
              "\n",
              "    .dataframe thead th {\n",
              "        text-align: right;\n",
              "    }\n",
              "</style>\n",
              "<table border=\"1\" class=\"dataframe\">\n",
              "  <thead>\n",
              "    <tr style=\"text-align: right;\">\n",
              "      <th>level</th>\n",
              "      <th>2-year</th>\n",
              "      <th>4-year</th>\n",
              "    </tr>\n",
              "    <tr>\n",
              "      <th>control</th>\n",
              "      <th></th>\n",
              "      <th></th>\n",
              "    </tr>\n",
              "  </thead>\n",
              "  <tbody>\n",
              "    <tr>\n",
              "      <th>Private for-profit</th>\n",
              "      <td>465</td>\n",
              "      <td>527</td>\n",
              "    </tr>\n",
              "    <tr>\n",
              "      <th>Private not-for-profit</th>\n",
              "      <td>68</td>\n",
              "      <td>1180</td>\n",
              "    </tr>\n",
              "    <tr>\n",
              "      <th>Public</th>\n",
              "      <td>926</td>\n",
              "      <td>632</td>\n",
              "    </tr>\n",
              "  </tbody>\n",
              "</table>\n",
              "</div>"
            ],
            "text/plain": [
              "level                   2-year  4-year\n",
              "control                               \n",
              "Private for-profit         465     527\n",
              "Private not-for-profit      68    1180\n",
              "Public                     926     632"
            ]
          },
          "execution_count": 22,
          "metadata": {},
          "output_type": "execute_result"
        }
      ],
      "source": [
        "# 3 cross tabulate control and level\n",
        "cross_tab = pd.crosstab(college_df['control'], college_df['level'])\n",
        "\n",
        "cross_tab"
      ]
    },
    {
      "attachments": {},
      "cell_type": "markdown",
      "id": "a8a7fa74",
      "metadata": {},
      "source": [
        "**Q3.3**\n",
        "Here I noticed that Private not-for-profit colleges are mostly 4-year colleges. Additionally, there are more Public 2-years than 4-years. Lastly, Private for-profit and not-for-profit are about evenly distributed."
      ]
    },
    {
      "cell_type": "markdown",
      "id": "98d34a3b-c21d-4dc9-a8d2-fb7686804ceb",
      "metadata": {
        "id": "98d34a3b-c21d-4dc9-a8d2-fb7686804ceb"
      },
      "source": [
        "**Q4.** This question uses the Airbnb data to practice making visualizations.\n",
        "\n",
        "  1. Load the `./data/airbnb_hw.csv` data with Pandas. You should have cleaned the `Price` variable in question 2, and you'll need it later for this question.\n",
        "  2. What are are the dimensions of the data? How many observations are there? What are the variables included? Use `.head()` to examine the first few rows of data.\n",
        "  3. Cross tabulate `Room Type` and `Property Type`. What patterns do you see in what kinds of rentals are available? For which kinds of properties are private rooms more common than renting the entire property?\n",
        "  4. For `Price`, make a histogram, kernel density, box plot, and a statistical description of the variable. Are the data badly scaled? Are there many outliers? Use `log` to transform price into a new variable, `price_log`, and take these steps again.\n",
        "  5. Make a scatterplot of `price_log` and `Beds`. Describe what you see. Use `.groupby()` to compute a desciption of `Price` conditional on/grouped by the number of beds. Describe any patterns you see in the average price and standard deviation in prices.\n",
        "  6. Make a scatterplot of `price_log` and `Beds`, but color the graph by `Room Type` and `Property Type`. What patterns do you see? Compute a description of `Price` conditional on `Room Type` and `Property Type`. Which Room Type and Property Type have the highest prices on average? Which have the highest standard deviation? Does the mean or median appear to be a more reliable estimate of central tendency, and explain why?\n",
        "  7. We've looked a bit at this `price_log` and `Beds` scatterplot. Use seaborn to make a `jointplot` with `kind=hex`. Where are the data actually distributed? How does it affect the way you think about the plots in 5 and 6?"
      ]
    },
    {
      "cell_type": "markdown",
      "id": "649494cd-cfd6-4f80-992a-9994fc19e1d5",
      "metadata": {
        "id": "649494cd-cfd6-4f80-992a-9994fc19e1d5"
      },
      "source": [
        "**Q5.** Many important datasets contain a race variable, typically limited to a handful of values often including Black, White, Asian, Latino, and Indigenous. This question looks at data gathering efforts on this variable by the U.S. Federal government.\n",
        "\n",
        "1. How did the most recent US Census gather data on race?\n",
        "2. Why do we gather these data? What role do these kinds of data play in politics and society? Why does data quality matter?\n",
        "3. Please provide a constructive criticism of how the Census was conducted: What was done well? What do you think was missing? How should future large scale surveys be adjusted to best reflect the diversity of the population? Could some of the Census' good practices be adopted more widely to gather richer and more useful data?\n",
        "4. How did the Census gather data on sex and gender? Please provide a similar constructive criticism of their practices.\n",
        "5. When it comes to cleaning data, what concerns do you have about protected characteristics like sex, gender, sexual identity, or race? What challenges can you imagine arising when there are missing values? What good or bad practices might people adopt, and why?\n",
        "6. Suppose someone invented an algorithm to impute values for protected characteristics like race, gender, sex, or sexuality. What kinds of concerns would you have?"
      ]
    },
    {
      "cell_type": "markdown",
      "id": "2f38f2fd-6381-481d-bba9-017f3d363426",
      "metadata": {
        "id": "2f38f2fd-6381-481d-bba9-017f3d363426"
      },
      "source": [
        "**Q6.** Open the `./data/CBO_data.pdf` file. This contains tax data for 2019, explaining where the money comes from that the U.S. Federal Government Spends in terms of taxation on individuals/families and payroll taxes (the amount that your employer pays in taxes on your wages).\n",
        "\n",
        "For some context, the Federal government ultimately spent about $4.4 trillion in 2019, which was 21% of GDP (the total monetary value of all goods and services produced within the United States). Individual Income Taxes is the amount individuals pay on their wages to the Federal government, Corporate Income Taxes is the taxes individuals pay on capital gains from investment when they sell stock or other financial instruments, Payroll Taxes is the tax your employer pays on your wages, Excises and Customs Duties are taxes on goods or services like sin taxes on cigarettes or alcohol, and Estate and Gift Taxes are taxes paid on transfers of wealth to other people.\n",
        "\n",
        "1. Get the Millions of Families and Billions of Dollars data into a .csv file and load it with Pandas.\n",
        "2. Create a bar plot of individual income taxes by income decile. Explain what the graph shows. Why are some values negative?\n",
        "3. Create a bar plot of Total Federal Taxes by income decile. Which deciles are paying net positive amounts, and which are paying net negative amounts?\n",
        "4. Create a stacked bar plot for which Total Federal Taxes is grouped by Individual Income Taxes, Payroll Taxes, Excises and Customs Duties, and Estate and Gift Taxes. How does the share of taxes paid vary across the adjusted income deciles? (Hint: Are these the kind of data you want to melt?)\n",
        "5. Below the Total line for Millions of Families and Billions of Dollars, there are data for the richest of the richest families. Plot this alongside the bars for the deciles above the Total line. Describe your results.\n",
        "6. Get the Percent Distribution data into a .csv file and load it with Pandas. Create a bar graph of Total Federal Taxes by income decile.\n",
        "7. A tax system is progressive if higher-income and wealthier individuals pay more than lower-income and less wealthy individuals, and it is regressive if the opposite is true. Is the U.S. tax system progressive in terms of amount paid? In terms of the percentage of the overall total?\n",
        "8. Do the rich pay enough in taxes? Defend your answer."
      ]
    }
  ],
  "metadata": {
    "colab": {
      "provenance": []
    },
    "kernelspec": {
      "display_name": "Python 3 (ipykernel)",
      "language": "python",
      "name": "python3"
    },
    "language_info": {
      "codemirror_mode": {
        "name": "ipython",
        "version": 3
      },
      "file_extension": ".py",
      "mimetype": "text/x-python",
      "name": "python",
      "nbconvert_exporter": "python",
      "pygments_lexer": "ipython3",
      "version": "3.8.5"
    }
  },
  "nbformat": 4,
  "nbformat_minor": 5
}
